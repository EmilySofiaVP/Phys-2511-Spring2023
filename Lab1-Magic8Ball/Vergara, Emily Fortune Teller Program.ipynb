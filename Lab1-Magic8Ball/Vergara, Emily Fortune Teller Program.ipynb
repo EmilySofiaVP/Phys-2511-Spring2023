{
 "cells": [
  {
   "cell_type": "code",
   "execution_count": 4,
   "id": "13838280",
   "metadata": {
    "scrolled": true
   },
   "outputs": [
    {
     "name": "stdout",
     "output_type": "stream",
     "text": [
      "What would you like to ask the Magic 8 Ball? Will I ever get married?\n",
      "Give me a second.....\n",
      "Thinking.....\n",
      "Thinking really hard.....\n",
      "You asked, Will I ever get married?\n",
      "Magic 8 Ball says: Please don't make me answer that\n"
     ]
    }
   ],
   "source": [
    "import random as rn\n",
    "import time as tm\n",
    "\n",
    "question = input(\"What would you like to ask the Magic 8 Ball? \")\n",
    "print (\"Give me a second.....\")\n",
    "tm.sleep(2)\n",
    "print (\"Thinking.....\")\n",
    "tm.sleep(4)\n",
    "print (\"Thinking really hard.....\")\n",
    "tm.sleep(3)\n",
    "\n",
    "print (\"You asked, \" +  question )\n",
    "\n",
    "answer = rn.randint(1,6)\n",
    "\n",
    "if answer == 1:\n",
    "    ans = \"Yes, for certain\"\n",
    "elif answer == 2:\n",
    "    ans = \"Hell Nah\"\n",
    "elif answer == 3:\n",
    "    ans = \"Please don't make me answer that\"\n",
    "elif answer == 4:\n",
    "    ans = \"Ask again later, I'm on break\"\n",
    "elif answer == 5:\n",
    "    ans = \"Maybe Not\"\n",
    "elif answer == 6:\n",
    "    ans = \"It's definetly a possibility\"\n",
    "    \n",
    "tm.sleep(2) \n",
    "\n",
    "print (\"Magic 8 Ball says:\", ans)"
   ]
  },
  {
   "cell_type": "code",
   "execution_count": null,
   "id": "0a4ac058",
   "metadata": {},
   "outputs": [],
   "source": []
  },
  {
   "cell_type": "code",
   "execution_count": null,
   "id": "736c59e0",
   "metadata": {},
   "outputs": [],
   "source": []
  },
  {
   "cell_type": "code",
   "execution_count": null,
   "id": "a7dda679",
   "metadata": {},
   "outputs": [],
   "source": []
  },
  {
   "cell_type": "code",
   "execution_count": null,
   "id": "b2db4c32",
   "metadata": {},
   "outputs": [],
   "source": []
  },
  {
   "cell_type": "code",
   "execution_count": null,
   "id": "c1256054",
   "metadata": {},
   "outputs": [],
   "source": []
  }
 ],
 "metadata": {
  "kernelspec": {
   "display_name": "Python 3 (ipykernel)",
   "language": "python",
   "name": "python3"
  },
  "language_info": {
   "codemirror_mode": {
    "name": "ipython",
    "version": 3
   },
   "file_extension": ".py",
   "mimetype": "text/x-python",
   "name": "python",
   "nbconvert_exporter": "python",
   "pygments_lexer": "ipython3",
   "version": "3.9.13"
  }
 },
 "nbformat": 4,
 "nbformat_minor": 5
}

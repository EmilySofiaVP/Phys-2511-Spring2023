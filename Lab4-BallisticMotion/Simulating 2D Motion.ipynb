{
 "cells": [
  {
   "cell_type": "code",
   "execution_count": 6,
   "id": "564e2411",
   "metadata": {},
   "outputs": [
    {
     "name": "stdout",
     "output_type": "stream",
     "text": [
      "Enter velocity (m/s): 10\n",
      "Enter angle (degrees): 20\n",
      "Enter time step (s): 0.1\n",
      "Target missed by -23.42215165449864 meters.\n"
     ]
    }
   ],
   "source": [
    "import math\n",
    "\n",
    "v = float(input(\"Enter velocity (m/s): \"))\n",
    "theta = math.radians(float(input(\"Enter angle (degrees): \")))\n",
    "time_step = float(input(\"Enter time step (s): \"))\n",
    "\n",
    "target_pos = 30  #(m)\n",
    "tolerance = 0.05  #(m)\n",
    "\n",
    "\n",
    "g = 9.8  #gravity (m/s^2)\n",
    "ax = 0 #horizontal acceleration(m/s^2)\n",
    "\n",
    "x = 0 #x position of object (m)\n",
    "y = 0 #y position of object (m)\n",
    "vx = v * math.cos(theta)\n",
    "vy = v * math.sin(theta)\n",
    "\n",
    "while y >= 0:\n",
    "    x += vx * time_step\n",
    "    y += vy * time_step - 0.5 * g * time_step**2\n",
    "    vy += - g * time_step\n",
    "    vx += ax *time_step\n",
    "\n",
    "# Output\n",
    "if x >= target_pos - tolerance and x <= target_pos + tolerance:\n",
    "    print(\"Target hit!\")\n",
    "else:\n",
    "    print(\"Target missed by\", (x - target_pos), \"meters.\")\n"
   ]
  },
  {
   "cell_type": "code",
   "execution_count": null,
   "id": "1a99e9ef",
   "metadata": {},
   "outputs": [],
   "source": [
    "  "
   ]
  },
  {
   "cell_type": "code",
   "execution_count": null,
   "id": "5e9a1542",
   "metadata": {},
   "outputs": [],
   "source": []
  },
  {
   "cell_type": "code",
   "execution_count": null,
   "id": "9add2ed3",
   "metadata": {},
   "outputs": [],
   "source": []
  }
 ],
 "metadata": {
  "kernelspec": {
   "display_name": "Python 3 (ipykernel)",
   "language": "python",
   "name": "python3"
  },
  "language_info": {
   "codemirror_mode": {
    "name": "ipython",
    "version": 3
   },
   "file_extension": ".py",
   "mimetype": "text/x-python",
   "name": "python",
   "nbconvert_exporter": "python",
   "pygments_lexer": "ipython3",
   "version": "3.9.13"
  }
 },
 "nbformat": 4,
 "nbformat_minor": 5
}
